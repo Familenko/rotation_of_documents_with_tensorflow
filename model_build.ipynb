{
 "cells": [
  {
   "cell_type": "markdown",
   "metadata": {},
   "source": [
    "# Імпортуємо всі необхідні бібліотеки"
   ]
  },
  {
   "cell_type": "code",
   "execution_count": 2,
   "metadata": {},
   "outputs": [],
   "source": [
    "import numpy as np\n",
    "import os\n",
    "import cv2\n",
    "\n",
    "import matplotlib.pyplot as plt\n",
    "import tensorflow as tf\n",
    "\n",
    "from tensorflow.keras.models import Sequential, Model\n",
    "from tensorflow.keras.layers import Conv2D, MaxPooling2D, Flatten, Dense, Input\n",
    "\n",
    "from keras_tuner.tuners import BayesianOptimization\n"
   ]
  },
  {
   "cell_type": "markdown",
   "metadata": {},
   "source": [
    "# Визначаємо глобальні змінні"
   ]
  },
  {
   "cell_type": "code",
   "execution_count": 45,
   "metadata": {},
   "outputs": [],
   "source": [
    "SIZE = 224\n",
    "BATCH = 32"
   ]
  },
  {
   "cell_type": "markdown",
   "metadata": {},
   "source": [
    "# Прописую всі необхідні допоміжні функціі"
   ]
  },
  {
   "cell_type": "code",
   "execution_count": 64,
   "metadata": {},
   "outputs": [],
   "source": [
    "def history_plot(history):\n",
    "\n",
    "    mae = history.history['mae']\n",
    "    val_mae = history.history['val_mae']\n",
    "    loss = history.history['loss']\n",
    "    val_loss = history.history['val_loss']\n",
    "\n",
    "    epochs = range(len(mae))\n",
    "\n",
    "    plt.plot(epochs, mae)\n",
    "    plt.plot(epochs, val_mae)\n",
    "    plt.title('Training and validation mae')\n",
    "    plt.legend(['Training mae', 'Validation mae'])\n",
    "    plt.figure()\n",
    "\n",
    "    plt.plot(epochs,loss)\n",
    "    plt.plot(epochs,val_loss)\n",
    "    plt.title('Training and validation loss')\n",
    "    plt.legend(['Training Loss','Validation Loss'])\n",
    "    plt.figure()\n",
    "\n",
    "def define_learning_rate(epoch, history, epoch_step, start_lr = 1e-6, stop_lr = 1e-2, view = 10):\n",
    "    \n",
    "    lrs = start_lr * (10 ** (np.arange(epoch) / epoch_step))\n",
    "    plt.figure(figsize=(10, 6))\n",
    "    plt.grid(True)\n",
    "    plt.semilogx(lrs, history.history[\"loss\"])\n",
    "    plt.tick_params('both', length=10, width=1, which='both')\n",
    "    plt.axis([start_lr, stop_lr, 0, view])\n",
    "\n",
    "\n",
    "def load_and_resize_image(image_path, target_size=(224, 224)):\n",
    "    image = cv2.imread(image_path)\n",
    "    image = cv2.resize(image, target_size)\n",
    "    return image\n",
    "\n",
    "\n",
    "def load_data(data_directory):\n",
    "    images = []\n",
    "    targets = []\n",
    "\n",
    "    for folder in os.listdir(data_directory):\n",
    "        folder_path = os.path.join(data_directory, folder)\n",
    "        if os.path.isdir(folder_path):\n",
    "            for filename in os.listdir(folder_path):\n",
    "                image_path = os.path.join(folder_path, filename)\n",
    "                if image_path.endswith('.png'):\n",
    "                    resized_image = load_and_resize_image(image_path, target_size=(SIZE, SIZE))\n",
    "                    images.append(resized_image)\n",
    "                    targets.append(float(folder))\n",
    "\n",
    "    return np.array(images), np.array(targets)"
   ]
  },
  {
   "cell_type": "markdown",
   "metadata": {},
   "source": [
    "# Із вже підготовлених зображень формую тренувальні та тестові массиви зображень та їх кути відповідно до назв каталогів"
   ]
  },
  {
   "cell_type": "code",
   "execution_count": 16,
   "metadata": {},
   "outputs": [],
   "source": [
    "train_directory = '/Users/aleksejkitajskij/Desktop/invoices_rotated/images/work_img/train'\n",
    "test_directory = '/Users/aleksejkitajskij/Desktop/invoices_rotated/images/work_img/test'\n",
    "\n",
    "X_train, y_train = load_data(train_directory)\n",
    "X_test, y_test = load_data(test_directory)"
   ]
  },
  {
   "cell_type": "markdown",
   "metadata": {},
   "source": [
    "# Базова модель"
   ]
  },
  {
   "cell_type": "markdown",
   "metadata": {},
   "source": [
    "### Будую просту базову модель із переданим колбеком lr_schedule, в якому поступово збільшуєтся learning rate. В подальшому графіку, за допомогою збережених данних в history, визначаємо оптимальне значення lr "
   ]
  },
  {
   "cell_type": "code",
   "execution_count": 47,
   "metadata": {},
   "outputs": [
    {
     "name": "stdout",
     "output_type": "stream",
     "text": [
      "Epoch 1/100\n",
      "18/18 [==============================] - 4s 185ms/step - loss: 1718.3929 - mse: 1718.3929 - val_loss: 1585.0627 - val_mse: 1585.0627 - lr: 1.0000e-08\n",
      "Epoch 2/100\n",
      "18/18 [==============================] - 3s 161ms/step - loss: 1395.9515 - mse: 1395.9515 - val_loss: 1267.8521 - val_mse: 1267.8521 - lr: 1.1220e-08\n",
      "Epoch 3/100\n",
      "18/18 [==============================] - 3s 157ms/step - loss: 1102.7042 - mse: 1102.7042 - val_loss: 982.3748 - val_mse: 982.3748 - lr: 1.2589e-08\n",
      "Epoch 4/100\n",
      "18/18 [==============================] - 3s 157ms/step - loss: 853.6811 - mse: 853.6811 - val_loss: 751.7394 - val_mse: 751.7394 - lr: 1.4125e-08\n",
      "Epoch 5/100\n",
      "18/18 [==============================] - 3s 157ms/step - loss: 657.7058 - mse: 657.7058 - val_loss: 572.6157 - val_mse: 572.6156 - lr: 1.5849e-08\n",
      "Epoch 6/100\n",
      "18/18 [==============================] - 3s 163ms/step - loss: 506.8173 - mse: 506.8173 - val_loss: 445.4690 - val_mse: 445.4690 - lr: 1.7783e-08\n",
      "Epoch 7/100\n",
      "18/18 [==============================] - 3s 155ms/step - loss: 405.9371 - mse: 405.9371 - val_loss: 359.4941 - val_mse: 359.4941 - lr: 1.9953e-08\n",
      "Epoch 8/100\n",
      "18/18 [==============================] - 3s 155ms/step - loss: 347.6811 - mse: 347.6811 - val_loss: 313.4100 - val_mse: 313.4100 - lr: 2.2387e-08\n",
      "Epoch 9/100\n",
      "18/18 [==============================] - 3s 165ms/step - loss: 319.6872 - mse: 319.6872 - val_loss: 294.0209 - val_mse: 294.0209 - lr: 2.5119e-08\n",
      "Epoch 10/100\n",
      "18/18 [==============================] - 3s 157ms/step - loss: 309.7372 - mse: 309.7372 - val_loss: 287.0884 - val_mse: 287.0884 - lr: 2.8184e-08\n",
      "Epoch 11/100\n",
      "18/18 [==============================] - 3s 159ms/step - loss: 305.6602 - mse: 305.6602 - val_loss: 283.3001 - val_mse: 283.3001 - lr: 3.1623e-08\n",
      "Epoch 12/100\n",
      "18/18 [==============================] - 3s 153ms/step - loss: 302.4717 - mse: 302.4717 - val_loss: 281.2082 - val_mse: 281.2082 - lr: 3.5481e-08\n",
      "Epoch 13/100\n",
      "18/18 [==============================] - 3s 155ms/step - loss: 299.4263 - mse: 299.4263 - val_loss: 278.4155 - val_mse: 278.4155 - lr: 3.9811e-08\n",
      "Epoch 14/100\n",
      "18/18 [==============================] - 3s 161ms/step - loss: 296.0406 - mse: 296.0406 - val_loss: 275.5147 - val_mse: 275.5147 - lr: 4.4668e-08\n",
      "Epoch 15/100\n",
      "18/18 [==============================] - 3s 161ms/step - loss: 292.6266 - mse: 292.6266 - val_loss: 272.3000 - val_mse: 272.3000 - lr: 5.0119e-08\n",
      "Epoch 16/100\n",
      "18/18 [==============================] - 3s 157ms/step - loss: 289.6145 - mse: 289.6145 - val_loss: 270.1257 - val_mse: 270.1257 - lr: 5.6234e-08\n",
      "Epoch 17/100\n",
      "18/18 [==============================] - 3s 158ms/step - loss: 287.1508 - mse: 287.1508 - val_loss: 268.0664 - val_mse: 268.0664 - lr: 6.3096e-08\n",
      "Epoch 18/100\n",
      "18/18 [==============================] - 3s 157ms/step - loss: 283.4908 - mse: 283.4908 - val_loss: 266.8315 - val_mse: 266.8315 - lr: 7.0795e-08\n",
      "Epoch 19/100\n",
      "18/18 [==============================] - 3s 158ms/step - loss: 280.3368 - mse: 280.3368 - val_loss: 263.4332 - val_mse: 263.4332 - lr: 7.9433e-08\n",
      "Epoch 20/100\n",
      "18/18 [==============================] - 3s 159ms/step - loss: 277.1184 - mse: 277.1184 - val_loss: 261.3030 - val_mse: 261.3030 - lr: 8.9125e-08\n",
      "Epoch 21/100\n",
      "18/18 [==============================] - 3s 173ms/step - loss: 273.4294 - mse: 273.4294 - val_loss: 257.9518 - val_mse: 257.9518 - lr: 1.0000e-07\n",
      "Epoch 22/100\n",
      "18/18 [==============================] - 3s 164ms/step - loss: 270.0696 - mse: 270.0696 - val_loss: 254.7535 - val_mse: 254.7535 - lr: 1.1220e-07\n",
      "Epoch 23/100\n",
      "18/18 [==============================] - 3s 157ms/step - loss: 266.2879 - mse: 266.2879 - val_loss: 251.4955 - val_mse: 251.4955 - lr: 1.2589e-07\n",
      "Epoch 24/100\n",
      "18/18 [==============================] - 3s 159ms/step - loss: 263.9077 - mse: 263.9077 - val_loss: 248.6666 - val_mse: 248.6666 - lr: 1.4125e-07\n",
      "Epoch 25/100\n",
      "18/18 [==============================] - 3s 161ms/step - loss: 260.0767 - mse: 260.0767 - val_loss: 243.2800 - val_mse: 243.2800 - lr: 1.5849e-07\n",
      "Epoch 26/100\n",
      "18/18 [==============================] - 3s 162ms/step - loss: 255.9675 - mse: 255.9675 - val_loss: 240.2183 - val_mse: 240.2183 - lr: 1.7783e-07\n",
      "Epoch 27/100\n",
      "18/18 [==============================] - 3s 162ms/step - loss: 250.3150 - mse: 250.3150 - val_loss: 233.8920 - val_mse: 233.8920 - lr: 1.9953e-07\n",
      "Epoch 28/100\n",
      "18/18 [==============================] - 3s 161ms/step - loss: 240.3947 - mse: 240.3947 - val_loss: 229.8748 - val_mse: 229.8748 - lr: 2.2387e-07\n",
      "Epoch 29/100\n",
      "18/18 [==============================] - 3s 169ms/step - loss: 235.8653 - mse: 235.8653 - val_loss: 222.3936 - val_mse: 222.3936 - lr: 2.5119e-07\n",
      "Epoch 30/100\n",
      "18/18 [==============================] - 3s 159ms/step - loss: 230.3616 - mse: 230.3616 - val_loss: 217.4404 - val_mse: 217.4404 - lr: 2.8184e-07\n",
      "Epoch 31/100\n",
      "18/18 [==============================] - 3s 174ms/step - loss: 226.3737 - mse: 226.3737 - val_loss: 216.5806 - val_mse: 216.5806 - lr: 3.1623e-07\n",
      "Epoch 32/100\n",
      "18/18 [==============================] - 3s 161ms/step - loss: 216.3708 - mse: 216.3708 - val_loss: 202.4831 - val_mse: 202.4830 - lr: 3.5481e-07\n",
      "Epoch 33/100\n",
      "18/18 [==============================] - 3s 160ms/step - loss: 215.1339 - mse: 215.1339 - val_loss: 195.0315 - val_mse: 195.0315 - lr: 3.9811e-07\n",
      "Epoch 34/100\n",
      "18/18 [==============================] - 3s 160ms/step - loss: 200.6866 - mse: 200.6866 - val_loss: 189.4277 - val_mse: 189.4277 - lr: 4.4668e-07\n",
      "Epoch 35/100\n",
      "18/18 [==============================] - 3s 166ms/step - loss: 185.7912 - mse: 185.7912 - val_loss: 179.6262 - val_mse: 179.6262 - lr: 5.0119e-07\n",
      "Epoch 36/100\n",
      "18/18 [==============================] - 3s 162ms/step - loss: 177.2282 - mse: 177.2282 - val_loss: 168.8089 - val_mse: 168.8089 - lr: 5.6234e-07\n",
      "Epoch 37/100\n",
      "18/18 [==============================] - 3s 159ms/step - loss: 164.4729 - mse: 164.4729 - val_loss: 160.0879 - val_mse: 160.0879 - lr: 6.3096e-07\n",
      "Epoch 38/100\n",
      "18/18 [==============================] - 3s 156ms/step - loss: 152.5634 - mse: 152.5634 - val_loss: 151.1333 - val_mse: 151.1333 - lr: 7.0795e-07\n",
      "Epoch 39/100\n",
      "18/18 [==============================] - 3s 175ms/step - loss: 143.2145 - mse: 143.2145 - val_loss: 154.7853 - val_mse: 154.7853 - lr: 7.9433e-07\n",
      "Epoch 40/100\n",
      "18/18 [==============================] - 3s 175ms/step - loss: 141.9310 - mse: 141.9310 - val_loss: 133.4103 - val_mse: 133.4103 - lr: 8.9125e-07\n",
      "Epoch 41/100\n",
      "18/18 [==============================] - 3s 159ms/step - loss: 133.9088 - mse: 133.9088 - val_loss: 144.7575 - val_mse: 144.7575 - lr: 1.0000e-06\n",
      "Epoch 42/100\n",
      "18/18 [==============================] - 3s 160ms/step - loss: 118.6010 - mse: 118.6010 - val_loss: 118.1025 - val_mse: 118.1025 - lr: 1.1220e-06\n",
      "Epoch 43/100\n",
      "18/18 [==============================] - 3s 157ms/step - loss: 104.2899 - mse: 104.2899 - val_loss: 111.7528 - val_mse: 111.7528 - lr: 1.2589e-06\n",
      "Epoch 44/100\n",
      "18/18 [==============================] - 3s 158ms/step - loss: 93.7798 - mse: 93.7798 - val_loss: 113.8030 - val_mse: 113.8030 - lr: 1.4125e-06\n",
      "Epoch 45/100\n",
      "18/18 [==============================] - 3s 159ms/step - loss: 88.8229 - mse: 88.8229 - val_loss: 95.9681 - val_mse: 95.9681 - lr: 1.5849e-06\n",
      "Epoch 46/100\n",
      "18/18 [==============================] - 3s 154ms/step - loss: 78.3955 - mse: 78.3955 - val_loss: 89.4429 - val_mse: 89.4429 - lr: 1.7783e-06\n",
      "Epoch 47/100\n",
      "18/18 [==============================] - 3s 168ms/step - loss: 70.0441 - mse: 70.0441 - val_loss: 84.8015 - val_mse: 84.8015 - lr: 1.9953e-06\n",
      "Epoch 48/100\n",
      "18/18 [==============================] - 3s 173ms/step - loss: 66.9593 - mse: 66.9593 - val_loss: 77.5071 - val_mse: 77.5071 - lr: 2.2387e-06\n",
      "Epoch 49/100\n",
      "18/18 [==============================] - 3s 157ms/step - loss: 62.2730 - mse: 62.2730 - val_loss: 94.9909 - val_mse: 94.9909 - lr: 2.5119e-06\n",
      "Epoch 50/100\n",
      "18/18 [==============================] - 3s 179ms/step - loss: 56.1116 - mse: 56.1116 - val_loss: 81.7004 - val_mse: 81.7004 - lr: 2.8184e-06\n",
      "Epoch 51/100\n",
      "18/18 [==============================] - 3s 165ms/step - loss: 59.2998 - mse: 59.2998 - val_loss: 60.8693 - val_mse: 60.8693 - lr: 3.1623e-06\n",
      "Epoch 52/100\n",
      "18/18 [==============================] - 3s 168ms/step - loss: 40.4543 - mse: 40.4543 - val_loss: 55.2011 - val_mse: 55.2011 - lr: 3.5481e-06\n",
      "Epoch 53/100\n",
      "18/18 [==============================] - 3s 187ms/step - loss: 48.5056 - mse: 48.5056 - val_loss: 54.5347 - val_mse: 54.5347 - lr: 3.9811e-06\n",
      "Epoch 54/100\n",
      "18/18 [==============================] - 3s 172ms/step - loss: 37.0927 - mse: 37.0927 - val_loss: 63.8337 - val_mse: 63.8337 - lr: 4.4668e-06\n",
      "Epoch 55/100\n",
      "18/18 [==============================] - 3s 172ms/step - loss: 32.6129 - mse: 32.6129 - val_loss: 41.9158 - val_mse: 41.9158 - lr: 5.0119e-06\n",
      "Epoch 56/100\n",
      "18/18 [==============================] - 3s 170ms/step - loss: 19.2022 - mse: 19.2022 - val_loss: 83.4068 - val_mse: 83.4068 - lr: 5.6234e-06\n",
      "Epoch 57/100\n",
      "18/18 [==============================] - 3s 161ms/step - loss: 40.3177 - mse: 40.3177 - val_loss: 99.2885 - val_mse: 99.2885 - lr: 6.3096e-06\n",
      "Epoch 58/100\n",
      "18/18 [==============================] - 3s 163ms/step - loss: 51.7343 - mse: 51.7343 - val_loss: 50.9684 - val_mse: 50.9684 - lr: 7.0795e-06\n",
      "Epoch 59/100\n",
      "18/18 [==============================] - 3s 166ms/step - loss: 31.0702 - mse: 31.0702 - val_loss: 84.2292 - val_mse: 84.2292 - lr: 7.9433e-06\n",
      "Epoch 60/100\n",
      "18/18 [==============================] - 3s 161ms/step - loss: 20.5163 - mse: 20.5163 - val_loss: 78.2976 - val_mse: 78.2976 - lr: 8.9125e-06\n"
     ]
    }
   ],
   "source": [
    "model = Sequential()\n",
    "model.add(Conv2D(32, (3, 3), activation='relu', input_shape=(SIZE, SIZE, 3)))\n",
    "model.add(MaxPooling2D((2, 2)))\n",
    "model.add(Conv2D(64, (3, 3), activation='relu'))\n",
    "model.add(MaxPooling2D((2, 2)))\n",
    "model.add(Flatten())\n",
    "model.add(Dense(64, activation='relu'))\n",
    "model.add(Dense(1))\n",
    "\n",
    "lr_schedule = tf.keras.callbacks.LearningRateScheduler(\n",
    "lambda epoch: 1e-8 * 10**(epoch / 20))\n",
    "\n",
    "early_stopping_callback = tf.keras.callbacks.EarlyStopping(\n",
    "    monitor='val_loss',\n",
    "    patience=5,\n",
    "    restore_best_weights=True\n",
    ")\n",
    "\n",
    "model.compile(optimizer='adam', loss='mean_squared_error', metrics=['mse'])\n",
    "history = model.fit(X_train, y_train, \n",
    "                    epochs=100, \n",
    "                    batch_size=BATCH,\n",
    "                    validation_data = (X_test, y_test), \n",
    "                    callbacks=[lr_schedule, early_stopping_callback])\n"
   ]
  },
  {
   "cell_type": "markdown",
   "metadata": {},
   "source": [
    "### На данному графіку видно що \"турбулентність\" десь між значеннями -07 та -06"
   ]
  },
  {
   "cell_type": "code",
   "execution_count": 49,
   "metadata": {},
   "outputs": [
    {
     "data": {
      "image/png": "[encoded data removed]",
      "text/plain": [
       "<Figure size 1000x600 with 1 Axes>"
      ]
     },
     "metadata": {},
     "output_type": "display_data"
    }
   ],
   "source": [
    "define_learning_rate(epoch = 60, history = history, epoch_step = 20, start_lr = 1e-8, stop_lr = 1e-5, view = 500)"
   ]
  },
  {
   "cell_type": "markdown",
   "metadata": {},
   "source": [
    "### Беру середнє значення для використанням в якості lr в подальших моделях"
   ]
  },
  {
   "cell_type": "code",
   "execution_count": 50,
   "metadata": {},
   "outputs": [
    {
     "data": {
      "text/plain": [
       "5.5e-07"
      ]
     },
     "execution_count": 50,
     "metadata": {},
     "output_type": "execute_result"
    }
   ],
   "source": [
    "0.00000055"
   ]
  },
  {
   "cell_type": "markdown",
   "metadata": {},
   "source": [
    "### Перевіряю ефективність визначеного lr та додаю колбек reduce_lr для зменьшення швидкості навчання при виході на плато. Із основних методів регулярізації поки використовуємо лише early_stopping_callback"
   ]
  },
  {
   "cell_type": "code",
   "execution_count": 55,
   "metadata": {},
   "outputs": [
    {
     "name": "stdout",
     "output_type": "stream",
     "text": [
      "Epoch 1/100\n",
      "18/18 [==============================] - ETA: 0s - loss: 16.2783 - mae: 16.2783\n",
      "Epoch 1: val_loss improved from inf to 14.08627, saving model to model_checkpoints/cp.ckpt\n",
      "18/18 [==============================] - 4s 198ms/step - loss: 16.2783 - mae: 16.2783 - val_loss: 14.0863 - val_mae: 14.0863 - lr: 5.5000e-07\n",
      "Epoch 2/100\n",
      "18/18 [==============================] - ETA: 0s - loss: 14.0214 - mae: 14.0214\n",
      "Epoch 2: val_loss improved from 14.08627 to 12.59141, saving model to model_checkpoints/cp.ckpt\n",
      "18/18 [==============================] - 4s 206ms/step - loss: 14.0214 - mae: 14.0214 - val_loss: 12.5914 - val_mae: 12.5914 - lr: 5.5000e-07\n",
      "Epoch 3/100\n",
      "18/18 [==============================] - ETA: 0s - loss: 12.6855 - mae: 12.6855\n",
      "Epoch 3: val_loss improved from 12.59141 to 12.29295, saving model to model_checkpoints/cp.ckpt\n",
      "18/18 [==============================] - 3s 192ms/step - loss: 12.6855 - mae: 12.6855 - val_loss: 12.2930 - val_mae: 12.2930 - lr: 5.5000e-07\n",
      "Epoch 4/100\n",
      "18/18 [==============================] - ETA: 0s - loss: 12.6079 - mae: 12.6079\n",
      "Epoch 4: val_loss improved from 12.29295 to 10.68392, saving model to model_checkpoints/cp.ckpt\n",
      "18/18 [==============================] - 3s 182ms/step - loss: 12.6079 - mae: 12.6079 - val_loss: 10.6839 - val_mae: 10.6839 - lr: 5.5000e-07\n",
      "Epoch 5/100\n",
      "18/18 [==============================] - ETA: 0s - loss: 10.5088 - mae: 10.5088\n",
      "Epoch 5: val_loss improved from 10.68392 to 9.60817, saving model to model_checkpoints/cp.ckpt\n",
      "18/18 [==============================] - 3s 175ms/step - loss: 10.5088 - mae: 10.5088 - val_loss: 9.6082 - val_mae: 9.6082 - lr: 5.5000e-07\n",
      "Epoch 6/100\n",
      "18/18 [==============================] - ETA: 0s - loss: 9.6095 - mae: 9.6095\n",
      "Epoch 6: val_loss improved from 9.60817 to 8.89475, saving model to model_checkpoints/cp.ckpt\n",
      "18/18 [==============================] - 4s 199ms/step - loss: 9.6095 - mae: 9.6095 - val_loss: 8.8947 - val_mae: 8.8947 - lr: 5.5000e-07\n",
      "Epoch 7/100\n",
      "18/18 [==============================] - ETA: 0s - loss: 9.1761 - mae: 9.1761\n",
      "Epoch 7: val_loss improved from 8.89475 to 8.54906, saving model to model_checkpoints/cp.ckpt\n",
      "18/18 [==============================] - 3s 180ms/step - loss: 9.1761 - mae: 9.1761 - val_loss: 8.5491 - val_mae: 8.5491 - lr: 5.5000e-07\n",
      "Epoch 8/100\n",
      "18/18 [==============================] - ETA: 0s - loss: 8.3489 - mae: 8.3489\n",
      "Epoch 8: val_loss improved from 8.54906 to 8.23663, saving model to model_checkpoints/cp.ckpt\n",
      "18/18 [==============================] - 3s 179ms/step - loss: 8.3489 - mae: 8.3489 - val_loss: 8.2366 - val_mae: 8.2366 - lr: 5.5000e-07\n",
      "Epoch 9/100\n",
      "18/18 [==============================] - ETA: 0s - loss: 7.7184 - mae: 7.7184\n",
      "Epoch 9: val_loss improved from 8.23663 to 7.97905, saving model to model_checkpoints/cp.ckpt\n",
      "18/18 [==============================] - 3s 172ms/step - loss: 7.7184 - mae: 7.7184 - val_loss: 7.9791 - val_mae: 7.9791 - lr: 5.5000e-07\n",
      "Epoch 10/100\n",
      "18/18 [==============================] - ETA: 0s - loss: 7.2873 - mae: 7.2873\n",
      "Epoch 10: val_loss improved from 7.97905 to 7.44352, saving model to model_checkpoints/cp.ckpt\n",
      "18/18 [==============================] - 3s 175ms/step - loss: 7.2873 - mae: 7.2873 - val_loss: 7.4435 - val_mae: 7.4435 - lr: 5.5000e-07\n",
      "Epoch 11/100\n",
      "18/18 [==============================] - ETA: 0s - loss: 6.8230 - mae: 6.8230\n",
      "Epoch 11: val_loss did not improve from 7.44352\n",
      "18/18 [==============================] - 3s 160ms/step - loss: 6.8230 - mae: 6.8230 - val_loss: 8.0784 - val_mae: 8.0784 - lr: 5.5000e-07\n",
      "Epoch 12/100\n",
      "18/18 [==============================] - ETA: 0s - loss: 6.8167 - mae: 6.8167\n",
      "Epoch 12: val_loss improved from 7.44352 to 6.60128, saving model to model_checkpoints/cp.ckpt\n",
      "18/18 [==============================] - 3s 178ms/step - loss: 6.8167 - mae: 6.8167 - val_loss: 6.6013 - val_mae: 6.6013 - lr: 5.5000e-07\n",
      "Epoch 13/100\n",
      "18/18 [==============================] - ETA: 0s - loss: 6.5436 - mae: 6.5436\n",
      "Epoch 13: val_loss did not improve from 6.60128\n",
      "18/18 [==============================] - 3s 158ms/step - loss: 6.5436 - mae: 6.5436 - val_loss: 6.9474 - val_mae: 6.9474 - lr: 5.5000e-07\n",
      "Epoch 14/100\n",
      "18/18 [==============================] - ETA: 0s - loss: 6.6089 - mae: 6.6089\n",
      "Epoch 14: val_loss improved from 6.60128 to 6.26039, saving model to model_checkpoints/cp.ckpt\n",
      "18/18 [==============================] - 3s 178ms/step - loss: 6.6089 - mae: 6.6089 - val_loss: 6.2604 - val_mae: 6.2604 - lr: 5.5000e-07\n",
      "Epoch 15/100\n",
      "18/18 [==============================] - ETA: 0s - loss: 5.9633 - mae: 5.9633\n",
      "Epoch 15: val_loss did not improve from 6.26039\n",
      "18/18 [==============================] - 3s 156ms/step - loss: 5.9633 - mae: 5.9633 - val_loss: 8.0281 - val_mae: 8.0281 - lr: 5.5000e-07\n",
      "Epoch 16/100\n",
      "18/18 [==============================] - ETA: 0s - loss: 5.9114 - mae: 5.9114\n",
      "Epoch 16: val_loss improved from 6.26039 to 6.20745, saving model to model_checkpoints/cp.ckpt\n",
      "18/18 [==============================] - 3s 178ms/step - loss: 5.9114 - mae: 5.9114 - val_loss: 6.2074 - val_mae: 6.2074 - lr: 5.5000e-07\n",
      "Epoch 17/100\n",
      "18/18 [==============================] - ETA: 0s - loss: 5.5164 - mae: 5.5164\n",
      "Epoch 17: val_loss improved from 6.20745 to 5.84110, saving model to model_checkpoints/cp.ckpt\n",
      "18/18 [==============================] - 3s 172ms/step - loss: 5.5164 - mae: 5.5164 - val_loss: 5.8411 - val_mae: 5.8411 - lr: 5.5000e-07\n",
      "Epoch 18/100\n",
      "18/18 [==============================] - ETA: 0s - loss: 5.1095 - mae: 5.1095\n",
      "Epoch 18: val_loss did not improve from 5.84110\n",
      "18/18 [==============================] - 3s 157ms/step - loss: 5.1095 - mae: 5.1095 - val_loss: 5.9512 - val_mae: 5.9512 - lr: 5.5000e-07\n",
      "Epoch 19/100\n",
      "18/18 [==============================] - ETA: 0s - loss: 5.0709 - mae: 5.0709\n",
      "Epoch 19: val_loss improved from 5.84110 to 5.67330, saving model to model_checkpoints/cp.ckpt\n",
      "18/18 [==============================] - 3s 178ms/step - loss: 5.0709 - mae: 5.0709 - val_loss: 5.6733 - val_mae: 5.6733 - lr: 5.5000e-07\n",
      "Epoch 20/100\n",
      "18/18 [==============================] - ETA: 0s - loss: 4.7765 - mae: 4.7765\n",
      "Epoch 20: val_loss improved from 5.67330 to 5.61310, saving model to model_checkpoints/cp.ckpt\n",
      "18/18 [==============================] - 3s 173ms/step - loss: 4.7765 - mae: 4.7765 - val_loss: 5.6131 - val_mae: 5.6131 - lr: 5.5000e-07\n",
      "Epoch 21/100\n",
      "18/18 [==============================] - ETA: 0s - loss: 4.6174 - mae: 4.6174\n",
      "Epoch 21: val_loss improved from 5.61310 to 5.49813, saving model to model_checkpoints/cp.ckpt\n",
      "18/18 [==============================] - 3s 170ms/step - loss: 4.6174 - mae: 4.6174 - val_loss: 5.4981 - val_mae: 5.4981 - lr: 5.5000e-07\n",
      "Epoch 22/100\n",
      "18/18 [==============================] - ETA: 0s - loss: 4.5698 - mae: 4.5698\n",
      "Epoch 22: val_loss did not improve from 5.49813\n",
      "18/18 [==============================] - 3s 158ms/step - loss: 4.5698 - mae: 4.5698 - val_loss: 5.6632 - val_mae: 5.6632 - lr: 5.5000e-07\n",
      "Epoch 23/100\n",
      "18/18 [==============================] - ETA: 0s - loss: 4.3949 - mae: 4.3949\n",
      "Epoch 23: val_loss did not improve from 5.49813\n",
      "18/18 [==============================] - 3s 158ms/step - loss: 4.3949 - mae: 4.3949 - val_loss: 5.5620 - val_mae: 5.5620 - lr: 5.5000e-07\n",
      "Epoch 24/100\n",
      "18/18 [==============================] - ETA: 0s - loss: 4.5346 - mae: 4.5346\n",
      "Epoch 24: val_loss improved from 5.49813 to 5.49780, saving model to model_checkpoints/cp.ckpt\n",
      "18/18 [==============================] - 3s 176ms/step - loss: 4.5346 - mae: 4.5346 - val_loss: 5.4978 - val_mae: 5.4978 - lr: 5.5000e-07\n",
      "Epoch 25/100\n",
      "18/18 [==============================] - ETA: 0s - loss: 4.2582 - mae: 4.2582\n",
      "Epoch 25: val_loss did not improve from 5.49780\n",
      "18/18 [==============================] - 3s 158ms/step - loss: 4.2582 - mae: 4.2582 - val_loss: 5.5117 - val_mae: 5.5117 - lr: 5.5000e-07\n",
      "Epoch 26/100\n",
      "18/18 [==============================] - ETA: 0s - loss: 4.2530 - mae: 4.2530\n",
      "Epoch 26: val_loss improved from 5.49780 to 5.15982, saving model to model_checkpoints/cp.ckpt\n",
      "18/18 [==============================] - 3s 174ms/step - loss: 4.2530 - mae: 4.2530 - val_loss: 5.1598 - val_mae: 5.1598 - lr: 5.5000e-07\n",
      "Epoch 27/100\n",
      "18/18 [==============================] - ETA: 0s - loss: 4.1242 - mae: 4.1242\n",
      "Epoch 27: val_loss improved from 5.15982 to 5.11705, saving model to model_checkpoints/cp.ckpt\n",
      "18/18 [==============================] - 3s 172ms/step - loss: 4.1242 - mae: 4.1242 - val_loss: 5.1171 - val_mae: 5.1171 - lr: 5.5000e-07\n",
      "Epoch 28/100\n",
      "18/18 [==============================] - ETA: 0s - loss: 3.6744 - mae: 3.6744\n",
      "Epoch 28: val_loss did not improve from 5.11705\n",
      "18/18 [==============================] - 3s 158ms/step - loss: 3.6744 - mae: 3.6744 - val_loss: 5.4716 - val_mae: 5.4716 - lr: 5.5000e-07\n",
      "Epoch 29/100\n",
      "18/18 [==============================] - ETA: 0s - loss: 3.8694 - mae: 3.8694\n",
      "Epoch 29: val_loss improved from 5.11705 to 5.06579, saving model to model_checkpoints/cp.ckpt\n",
      "18/18 [==============================] - 3s 181ms/step - loss: 3.8694 - mae: 3.8694 - val_loss: 5.0658 - val_mae: 5.0658 - lr: 5.5000e-07\n",
      "Epoch 30/100\n",
      "18/18 [==============================] - ETA: 0s - loss: 3.5699 - mae: 3.5699\n",
      "Epoch 30: val_loss improved from 5.06579 to 4.86711, saving model to model_checkpoints/cp.ckpt\n",
      "18/18 [==============================] - 3s 172ms/step - loss: 3.5699 - mae: 3.5699 - val_loss: 4.8671 - val_mae: 4.8671 - lr: 5.5000e-07\n",
      "Epoch 31/100\n",
      "17/18 [===========================>..] - ETA: 0s - loss: 3.4311 - mae: 3.4311\n",
      "Epoch 31: val_loss did not improve from 4.86711\n",
      "18/18 [==============================] - 3s 154ms/step - loss: 3.4323 - mae: 3.4323 - val_loss: 5.0116 - val_mae: 5.0116 - lr: 5.5000e-07\n",
      "Epoch 32/100\n",
      "18/18 [==============================] - ETA: 0s - loss: 3.6561 - mae: 3.6561\n",
      "Epoch 32: val_loss improved from 4.86711 to 4.75728, saving model to model_checkpoints/cp.ckpt\n",
      "18/18 [==============================] - 3s 175ms/step - loss: 3.6561 - mae: 3.6561 - val_loss: 4.7573 - val_mae: 4.7573 - lr: 5.5000e-07\n",
      "Epoch 33/100\n",
      "18/18 [==============================] - ETA: 0s - loss: 3.5566 - mae: 3.5566\n",
      "Epoch 33: val_loss improved from 4.75728 to 4.73035, saving model to model_checkpoints/cp.ckpt\n",
      "18/18 [==============================] - 3s 172ms/step - loss: 3.5566 - mae: 3.5566 - val_loss: 4.7304 - val_mae: 4.7304 - lr: 5.5000e-07\n",
      "Epoch 34/100\n",
      "18/18 [==============================] - ETA: 0s - loss: 3.3134 - mae: 3.3134\n",
      "Epoch 34: val_loss improved from 4.73035 to 4.57986, saving model to model_checkpoints/cp.ckpt\n",
      "18/18 [==============================] - 3s 181ms/step - loss: 3.3134 - mae: 3.3134 - val_loss: 4.5799 - val_mae: 4.5799 - lr: 5.5000e-07\n",
      "Epoch 35/100\n",
      "18/18 [==============================] - ETA: 0s - loss: 3.1046 - mae: 3.1046\n",
      "Epoch 35: val_loss did not improve from 4.57986\n",
      "18/18 [==============================] - 3s 157ms/step - loss: 3.1046 - mae: 3.1046 - val_loss: 4.6932 - val_mae: 4.6932 - lr: 5.5000e-07\n",
      "Epoch 36/100\n",
      "18/18 [==============================] - ETA: 0s - loss: 3.0105 - mae: 3.0105\n",
      "Epoch 36: val_loss did not improve from 4.57986\n",
      "18/18 [==============================] - 3s 157ms/step - loss: 3.0105 - mae: 3.0105 - val_loss: 4.6264 - val_mae: 4.6264 - lr: 5.5000e-07\n",
      "Epoch 37/100\n",
      "18/18 [==============================] - ETA: 0s - loss: 3.0538 - mae: 3.0538\n",
      "Epoch 37: val_loss improved from 4.57986 to 4.54414, saving model to model_checkpoints/cp.ckpt\n",
      "18/18 [==============================] - 3s 176ms/step - loss: 3.0538 - mae: 3.0538 - val_loss: 4.5441 - val_mae: 4.5441 - lr: 5.5000e-07\n",
      "Epoch 38/100\n",
      "18/18 [==============================] - ETA: 0s - loss: 2.8710 - mae: 2.8710\n",
      "Epoch 38: val_loss did not improve from 4.54414\n",
      "18/18 [==============================] - 3s 159ms/step - loss: 2.8710 - mae: 2.8710 - val_loss: 4.5450 - val_mae: 4.5450 - lr: 5.5000e-07\n",
      "Epoch 39/100\n",
      "18/18 [==============================] - ETA: 0s - loss: 2.8963 - mae: 2.8963\n",
      "Epoch 39: val_loss improved from 4.54414 to 4.51437, saving model to model_checkpoints/cp.ckpt\n",
      "18/18 [==============================] - 3s 174ms/step - loss: 2.8963 - mae: 2.8963 - val_loss: 4.5144 - val_mae: 4.5144 - lr: 5.5000e-07\n",
      "Epoch 40/100\n",
      "18/18 [==============================] - ETA: 0s - loss: 2.7272 - mae: 2.7272\n",
      "Epoch 40: val_loss improved from 4.51437 to 4.50508, saving model to model_checkpoints/cp.ckpt\n",
      "18/18 [==============================] - 3s 174ms/step - loss: 2.7272 - mae: 2.7272 - val_loss: 4.5051 - val_mae: 4.5051 - lr: 5.5000e-07\n",
      "Epoch 41/100\n",
      "18/18 [==============================] - ETA: 0s - loss: 2.6663 - mae: 2.6663\n",
      "Epoch 41: val_loss improved from 4.50508 to 4.43444, saving model to model_checkpoints/cp.ckpt\n",
      "18/18 [==============================] - 3s 183ms/step - loss: 2.6663 - mae: 2.6663 - val_loss: 4.4344 - val_mae: 4.4344 - lr: 5.5000e-07\n",
      "Epoch 42/100\n",
      "18/18 [==============================] - ETA: 0s - loss: 2.6130 - mae: 2.6130\n",
      "Epoch 42: val_loss improved from 4.43444 to 4.36690, saving model to model_checkpoints/cp.ckpt\n",
      "18/18 [==============================] - 3s 182ms/step - loss: 2.6130 - mae: 2.6130 - val_loss: 4.3669 - val_mae: 4.3669 - lr: 5.5000e-07\n",
      "Epoch 43/100\n",
      "18/18 [==============================] - ETA: 0s - loss: 2.6862 - mae: 2.6862\n",
      "Epoch 43: val_loss did not improve from 4.36690\n",
      "18/18 [==============================] - 3s 158ms/step - loss: 2.6862 - mae: 2.6862 - val_loss: 5.1682 - val_mae: 5.1682 - lr: 5.5000e-07\n",
      "Epoch 44/100\n",
      "18/18 [==============================] - ETA: 0s - loss: 3.2311 - mae: 3.2311\n",
      "Epoch 44: val_loss did not improve from 4.36690\n",
      "18/18 [==============================] - 3s 158ms/step - loss: 3.2311 - mae: 3.2311 - val_loss: 4.4627 - val_mae: 4.4627 - lr: 5.5000e-07\n",
      "Epoch 45/100\n",
      "18/18 [==============================] - ETA: 0s - loss: 2.6089 - mae: 2.6089\n",
      "Epoch 45: ReduceLROnPlateau reducing learning rate to 1.0999999631167157e-07.\n",
      "\n",
      "Epoch 45: val_loss did not improve from 4.36690\n",
      "18/18 [==============================] - 3s 157ms/step - loss: 2.6089 - mae: 2.6089 - val_loss: 4.4295 - val_mae: 4.4295 - lr: 5.5000e-07\n",
      "Epoch 46/100\n",
      "18/18 [==============================] - ETA: 0s - loss: 2.4701 - mae: 2.4701\n",
      "Epoch 46: val_loss improved from 4.36690 to 4.28561, saving model to model_checkpoints/cp.ckpt\n",
      "18/18 [==============================] - 3s 172ms/step - loss: 2.4701 - mae: 2.4701 - val_loss: 4.2856 - val_mae: 4.2856 - lr: 1.1000e-07\n",
      "Epoch 47/100\n",
      "18/18 [==============================] - ETA: 0s - loss: 2.3560 - mae: 2.3560\n",
      "Epoch 47: val_loss did not improve from 4.28561\n",
      "18/18 [==============================] - 3s 158ms/step - loss: 2.3560 - mae: 2.3560 - val_loss: 4.2977 - val_mae: 4.2977 - lr: 1.1000e-07\n",
      "Epoch 48/100\n",
      "18/18 [==============================] - ETA: 0s - loss: 2.3722 - mae: 2.3722\n",
      "Epoch 48: val_loss improved from 4.28561 to 4.25738, saving model to model_checkpoints/cp.ckpt\n",
      "18/18 [==============================] - 3s 174ms/step - loss: 2.3722 - mae: 2.3722 - val_loss: 4.2574 - val_mae: 4.2574 - lr: 1.1000e-07\n",
      "Epoch 49/100\n",
      "18/18 [==============================] - ETA: 0s - loss: 2.3070 - mae: 2.3070\n",
      "Epoch 49: val_loss improved from 4.25738 to 4.23575, saving model to model_checkpoints/cp.ckpt\n",
      "18/18 [==============================] - 3s 171ms/step - loss: 2.3070 - mae: 2.3070 - val_loss: 4.2357 - val_mae: 4.2357 - lr: 1.1000e-07\n",
      "Epoch 50/100\n",
      "18/18 [==============================] - ETA: 0s - loss: 2.3005 - mae: 2.3005\n",
      "Epoch 50: val_loss did not improve from 4.23575\n",
      "18/18 [==============================] - 3s 157ms/step - loss: 2.3005 - mae: 2.3005 - val_loss: 4.2417 - val_mae: 4.2417 - lr: 1.1000e-07\n",
      "Epoch 51/100\n",
      "18/18 [==============================] - ETA: 0s - loss: 2.2922 - mae: 2.2922\n",
      "Epoch 51: val_loss did not improve from 4.23575\n",
      "18/18 [==============================] - 3s 155ms/step - loss: 2.2922 - mae: 2.2922 - val_loss: 4.2577 - val_mae: 4.2577 - lr: 1.1000e-07\n",
      "Epoch 52/100\n",
      "18/18 [==============================] - ETA: 0s - loss: 2.3175 - mae: 2.3175\n",
      "Epoch 52: val_loss improved from 4.23575 to 4.21892, saving model to model_checkpoints/cp.ckpt\n",
      "18/18 [==============================] - 3s 173ms/step - loss: 2.3175 - mae: 2.3175 - val_loss: 4.2189 - val_mae: 4.2189 - lr: 1.1000e-07\n",
      "Epoch 53/100\n",
      "18/18 [==============================] - ETA: 0s - loss: 2.2470 - mae: 2.2470\n",
      "Epoch 53: val_loss improved from 4.21892 to 4.20994, saving model to model_checkpoints/cp.ckpt\n",
      "18/18 [==============================] - 3s 171ms/step - loss: 2.2470 - mae: 2.2470 - val_loss: 4.2099 - val_mae: 4.2099 - lr: 1.1000e-07\n",
      "Epoch 54/100\n",
      "18/18 [==============================] - ETA: 0s - loss: 2.2348 - mae: 2.2348\n",
      "Epoch 54: val_loss did not improve from 4.20994\n",
      "18/18 [==============================] - 3s 157ms/step - loss: 2.2348 - mae: 2.2348 - val_loss: 4.2105 - val_mae: 4.2105 - lr: 1.1000e-07\n",
      "Epoch 55/100\n",
      "17/18 [===========================>..] - ETA: 0s - loss: 2.2092 - mae: 2.2092\n",
      "Epoch 55: val_loss did not improve from 4.20994\n",
      "18/18 [==============================] - 3s 156ms/step - loss: 2.2219 - mae: 2.2219 - val_loss: 4.2105 - val_mae: 4.2105 - lr: 1.1000e-07\n",
      "Epoch 56/100\n",
      "18/18 [==============================] - ETA: 0s - loss: 2.2174 - mae: 2.2174\n",
      "Epoch 56: ReduceLROnPlateau reducing learning rate to 2.199999897811722e-08.\n",
      "\n",
      "Epoch 56: val_loss did not improve from 4.20994\n",
      "18/18 [==============================] - 3s 156ms/step - loss: 2.2174 - mae: 2.2174 - val_loss: 4.2386 - val_mae: 4.2386 - lr: 1.1000e-07\n",
      "Epoch 57/100\n",
      "18/18 [==============================] - ETA: 0s - loss: 2.2936 - mae: 2.2936\n",
      "Epoch 57: val_loss did not improve from 4.20994\n",
      "18/18 [==============================] - 3s 157ms/step - loss: 2.2936 - mae: 2.2936 - val_loss: 4.2211 - val_mae: 4.2211 - lr: 2.2000e-08\n",
      "Epoch 58/100\n",
      "18/18 [==============================] - ETA: 0s - loss: 2.1702 - mae: 2.1702\n",
      "Epoch 58: val_loss improved from 4.20994 to 4.19549, saving model to model_checkpoints/cp.ckpt\n",
      "18/18 [==============================] - 3s 171ms/step - loss: 2.1702 - mae: 2.1702 - val_loss: 4.1955 - val_mae: 4.1955 - lr: 2.2000e-08\n",
      "Epoch 59/100\n",
      "18/18 [==============================] - ETA: 0s - loss: 2.1710 - mae: 2.1710\n",
      "Epoch 59: val_loss did not improve from 4.19549\n",
      "18/18 [==============================] - 3s 156ms/step - loss: 2.1710 - mae: 2.1710 - val_loss: 4.1982 - val_mae: 4.1982 - lr: 2.2000e-08\n",
      "Epoch 60/100\n",
      "18/18 [==============================] - ETA: 0s - loss: 2.1764 - mae: 2.1764\n",
      "Epoch 60: val_loss did not improve from 4.19549\n",
      "18/18 [==============================] - 3s 159ms/step - loss: 2.1764 - mae: 2.1764 - val_loss: 4.1979 - val_mae: 4.1979 - lr: 2.2000e-08\n",
      "Epoch 61/100\n",
      "18/18 [==============================] - ETA: 0s - loss: 2.1723 - mae: 2.1723\n",
      "Epoch 61: val_loss improved from 4.19549 to 4.19283, saving model to model_checkpoints/cp.ckpt\n",
      "18/18 [==============================] - 3s 172ms/step - loss: 2.1723 - mae: 2.1723 - val_loss: 4.1928 - val_mae: 4.1928 - lr: 2.2000e-08\n",
      "Epoch 62/100\n",
      "18/18 [==============================] - ETA: 0s - loss: 2.1640 - mae: 2.1640\n",
      "Epoch 62: val_loss improved from 4.19283 to 4.19155, saving model to model_checkpoints/cp.ckpt\n",
      "18/18 [==============================] - 3s 181ms/step - loss: 2.1640 - mae: 2.1640 - val_loss: 4.1915 - val_mae: 4.1915 - lr: 2.2000e-08\n",
      "Epoch 63/100\n",
      "18/18 [==============================] - ETA: 0s - loss: 2.1584 - mae: 2.1584\n",
      "Epoch 63: val_loss improved from 4.19155 to 4.18924, saving model to model_checkpoints/cp.ckpt\n",
      "18/18 [==============================] - 3s 170ms/step - loss: 2.1584 - mae: 2.1584 - val_loss: 4.1892 - val_mae: 4.1892 - lr: 2.2000e-08\n",
      "Epoch 64/100\n",
      "17/18 [===========================>..] - ETA: 0s - loss: 2.1548 - mae: 2.1548\n",
      "Epoch 64: val_loss improved from 4.18924 to 4.18834, saving model to model_checkpoints/cp.ckpt\n",
      "18/18 [==============================] - 3s 167ms/step - loss: 2.1607 - mae: 2.1607 - val_loss: 4.1883 - val_mae: 4.1883 - lr: 2.2000e-08\n",
      "Epoch 65/100\n",
      "18/18 [==============================] - ETA: 0s - loss: 2.1534 - mae: 2.1534\n",
      "Epoch 65: val_loss improved from 4.18834 to 4.18701, saving model to model_checkpoints/cp.ckpt\n",
      "18/18 [==============================] - 3s 180ms/step - loss: 2.1534 - mae: 2.1534 - val_loss: 4.1870 - val_mae: 4.1870 - lr: 2.2000e-08\n",
      "Epoch 66/100\n",
      "18/18 [==============================] - ETA: 0s - loss: 2.1603 - mae: 2.1603\n",
      "Epoch 66: val_loss did not improve from 4.18701\n",
      "18/18 [==============================] - 3s 161ms/step - loss: 2.1603 - mae: 2.1603 - val_loss: 4.1884 - val_mae: 4.1884 - lr: 2.2000e-08\n",
      "Epoch 67/100\n",
      "18/18 [==============================] - ETA: 0s - loss: 2.1459 - mae: 2.1459\n",
      "Epoch 67: val_loss improved from 4.18701 to 4.18254, saving model to model_checkpoints/cp.ckpt\n",
      "18/18 [==============================] - 3s 182ms/step - loss: 2.1459 - mae: 2.1459 - val_loss: 4.1825 - val_mae: 4.1825 - lr: 2.2000e-08\n",
      "Epoch 68/100\n",
      "18/18 [==============================] - ETA: 0s - loss: 2.1443 - mae: 2.1443\n",
      "Epoch 68: val_loss did not improve from 4.18254\n",
      "18/18 [==============================] - 3s 160ms/step - loss: 2.1443 - mae: 2.1443 - val_loss: 4.1912 - val_mae: 4.1912 - lr: 2.2000e-08\n",
      "Epoch 69/100\n",
      "18/18 [==============================] - ETA: 0s - loss: 2.1427 - mae: 2.1427\n",
      "Epoch 69: val_loss did not improve from 4.18254\n",
      "18/18 [==============================] - 3s 157ms/step - loss: 2.1427 - mae: 2.1427 - val_loss: 4.1837 - val_mae: 4.1837 - lr: 2.2000e-08\n",
      "Epoch 70/100\n",
      "18/18 [==============================] - ETA: 0s - loss: 2.1505 - mae: 2.1505\n",
      "Epoch 70: ReduceLROnPlateau reducing learning rate to 1e-08.\n",
      "\n",
      "Epoch 70: val_loss did not improve from 4.18254\n",
      "18/18 [==============================] - 3s 162ms/step - loss: 2.1505 - mae: 2.1505 - val_loss: 4.1849 - val_mae: 4.1849 - lr: 2.2000e-08\n",
      "Epoch 71/100\n",
      "18/18 [==============================] - ETA: 0s - loss: 2.1389 - mae: 2.1389\n",
      "Epoch 71: val_loss did not improve from 4.18254\n",
      "18/18 [==============================] - 3s 158ms/step - loss: 2.1389 - mae: 2.1389 - val_loss: 4.1840 - val_mae: 4.1840 - lr: 1.0000e-08\n",
      "Epoch 72/100\n",
      "18/18 [==============================] - ETA: 0s - loss: 2.1354 - mae: 2.1354\n",
      "Epoch 72: val_loss improved from 4.18254 to 4.18191, saving model to model_checkpoints/cp.ckpt\n",
      "18/18 [==============================] - 3s 172ms/step - loss: 2.1354 - mae: 2.1354 - val_loss: 4.1819 - val_mae: 4.1819 - lr: 1.0000e-08\n",
      "Epoch 73/100\n",
      "18/18 [==============================] - ETA: 0s - loss: 2.1339 - mae: 2.1339\n",
      "Epoch 73: val_loss improved from 4.18191 to 4.17901, saving model to model_checkpoints/cp.ckpt\n",
      "18/18 [==============================] - 3s 176ms/step - loss: 2.1339 - mae: 2.1339 - val_loss: 4.1790 - val_mae: 4.1790 - lr: 1.0000e-08\n",
      "Epoch 74/100\n",
      "18/18 [==============================] - ETA: 0s - loss: 2.1328 - mae: 2.1328\n",
      "Epoch 74: val_loss did not improve from 4.17901\n",
      "18/18 [==============================] - 3s 157ms/step - loss: 2.1328 - mae: 2.1328 - val_loss: 4.1795 - val_mae: 4.1795 - lr: 1.0000e-08\n",
      "Epoch 75/100\n",
      "18/18 [==============================] - ETA: 0s - loss: 2.1309 - mae: 2.1309\n",
      "Epoch 75: val_loss improved from 4.17901 to 4.17788, saving model to model_checkpoints/cp.ckpt\n",
      "18/18 [==============================] - 3s 174ms/step - loss: 2.1309 - mae: 2.1309 - val_loss: 4.1779 - val_mae: 4.1779 - lr: 1.0000e-08\n",
      "Epoch 76/100\n",
      "18/18 [==============================] - ETA: 0s - loss: 2.1267 - mae: 2.1267\n",
      "Epoch 76: val_loss did not improve from 4.17788\n",
      "18/18 [==============================] - 3s 158ms/step - loss: 2.1267 - mae: 2.1267 - val_loss: 4.1799 - val_mae: 4.1799 - lr: 1.0000e-08\n",
      "Epoch 77/100\n",
      "18/18 [==============================] - ETA: 0s - loss: 2.1263 - mae: 2.1263\n",
      "Epoch 77: val_loss did not improve from 4.17788\n",
      "18/18 [==============================] - 3s 158ms/step - loss: 2.1263 - mae: 2.1263 - val_loss: 4.1812 - val_mae: 4.1812 - lr: 1.0000e-08\n",
      "Epoch 78/100\n",
      "18/18 [==============================] - ETA: 0s - loss: 2.1265 - mae: 2.1265\n",
      "Epoch 78: val_loss improved from 4.17788 to 4.17722, saving model to model_checkpoints/cp.ckpt\n",
      "18/18 [==============================] - 3s 183ms/step - loss: 2.1265 - mae: 2.1265 - val_loss: 4.1772 - val_mae: 4.1772 - lr: 1.0000e-08\n",
      "Epoch 79/100\n",
      "18/18 [==============================] - ETA: 0s - loss: 2.1314 - mae: 2.1314\n",
      "Epoch 79: val_loss did not improve from 4.17722\n",
      "18/18 [==============================] - 3s 161ms/step - loss: 2.1314 - mae: 2.1314 - val_loss: 4.1776 - val_mae: 4.1776 - lr: 1.0000e-08\n",
      "Epoch 80/100\n",
      "18/18 [==============================] - ETA: 0s - loss: 2.1284 - mae: 2.1284\n",
      "Epoch 80: val_loss improved from 4.17722 to 4.17540, saving model to model_checkpoints/cp.ckpt\n",
      "18/18 [==============================] - 3s 179ms/step - loss: 2.1284 - mae: 2.1284 - val_loss: 4.1754 - val_mae: 4.1754 - lr: 1.0000e-08\n",
      "Epoch 81/100\n",
      "18/18 [==============================] - ETA: 0s - loss: 2.1248 - mae: 2.1248\n",
      "Epoch 81: val_loss improved from 4.17540 to 4.17432, saving model to model_checkpoints/cp.ckpt\n",
      "18/18 [==============================] - 3s 193ms/step - loss: 2.1248 - mae: 2.1248 - val_loss: 4.1743 - val_mae: 4.1743 - lr: 1.0000e-08\n",
      "Epoch 82/100\n",
      "18/18 [==============================] - ETA: 0s - loss: 2.1251 - mae: 2.1251\n",
      "Epoch 82: val_loss improved from 4.17432 to 4.17223, saving model to model_checkpoints/cp.ckpt\n",
      "18/18 [==============================] - 3s 183ms/step - loss: 2.1251 - mae: 2.1251 - val_loss: 4.1722 - val_mae: 4.1722 - lr: 1.0000e-08\n",
      "Epoch 83/100\n",
      "18/18 [==============================] - ETA: 0s - loss: 2.1238 - mae: 2.1238\n",
      "Epoch 83: val_loss did not improve from 4.17223\n",
      "18/18 [==============================] - 3s 163ms/step - loss: 2.1238 - mae: 2.1238 - val_loss: 4.1736 - val_mae: 4.1736 - lr: 1.0000e-08\n",
      "Epoch 84/100\n",
      "18/18 [==============================] - ETA: 0s - loss: 2.1242 - mae: 2.1242\n",
      "Epoch 84: val_loss did not improve from 4.17223\n",
      "18/18 [==============================] - 3s 160ms/step - loss: 2.1242 - mae: 2.1242 - val_loss: 4.1733 - val_mae: 4.1733 - lr: 1.0000e-08\n",
      "Epoch 85/100\n",
      "17/18 [===========================>..] - ETA: 0s - loss: 2.0815 - mae: 2.0815\n",
      "Epoch 85: val_loss did not improve from 4.17223\n",
      "18/18 [==============================] - 3s 159ms/step - loss: 2.1155 - mae: 2.1155 - val_loss: 4.1731 - val_mae: 4.1731 - lr: 1.0000e-08\n",
      "Epoch 86/100\n",
      "17/18 [===========================>..] - ETA: 0s - loss: 2.0921 - mae: 2.0921\n",
      "Epoch 86: val_loss did not improve from 4.17223\n",
      "18/18 [==============================] - 3s 161ms/step - loss: 2.1145 - mae: 2.1145 - val_loss: 4.1724 - val_mae: 4.1724 - lr: 1.0000e-08\n",
      "Epoch 87/100\n",
      "18/18 [==============================] - ETA: 0s - loss: 2.1114 - mae: 2.1114\n",
      "Epoch 87: val_loss improved from 4.17223 to 4.17147, saving model to model_checkpoints/cp.ckpt\n",
      "18/18 [==============================] - 3s 186ms/step - loss: 2.1114 - mae: 2.1114 - val_loss: 4.1715 - val_mae: 4.1715 - lr: 1.0000e-08\n",
      "Epoch 88/100\n",
      "18/18 [==============================] - ETA: 0s - loss: 2.1108 - mae: 2.1108\n",
      "Epoch 88: val_loss improved from 4.17147 to 4.17142, saving model to model_checkpoints/cp.ckpt\n",
      "18/18 [==============================] - 3s 184ms/step - loss: 2.1108 - mae: 2.1108 - val_loss: 4.1714 - val_mae: 4.1714 - lr: 1.0000e-08\n",
      "Epoch 89/100\n",
      "18/18 [==============================] - ETA: 0s - loss: 2.1079 - mae: 2.1079\n",
      "Epoch 89: val_loss improved from 4.17142 to 4.17012, saving model to model_checkpoints/cp.ckpt\n",
      "18/18 [==============================] - 3s 191ms/step - loss: 2.1079 - mae: 2.1079 - val_loss: 4.1701 - val_mae: 4.1701 - lr: 1.0000e-08\n",
      "Epoch 90/100\n",
      "18/18 [==============================] - ETA: 0s - loss: 2.1097 - mae: 2.1097\n",
      "Epoch 90: val_loss improved from 4.17012 to 4.16975, saving model to model_checkpoints/cp.ckpt\n",
      "18/18 [==============================] - 3s 182ms/step - loss: 2.1097 - mae: 2.1097 - val_loss: 4.1697 - val_mae: 4.1697 - lr: 1.0000e-08\n",
      "Epoch 91/100\n",
      "18/18 [==============================] - ETA: 0s - loss: 2.1090 - mae: 2.1090\n",
      "Epoch 91: val_loss did not improve from 4.16975\n",
      "18/18 [==============================] - 3s 169ms/step - loss: 2.1090 - mae: 2.1090 - val_loss: 4.1708 - val_mae: 4.1708 - lr: 1.0000e-08\n",
      "Epoch 92/100\n",
      "18/18 [==============================] - ETA: 0s - loss: 2.1049 - mae: 2.1049\n",
      "Epoch 92: val_loss did not improve from 4.16975\n",
      "18/18 [==============================] - 3s 158ms/step - loss: 2.1049 - mae: 2.1049 - val_loss: 4.1710 - val_mae: 4.1710 - lr: 1.0000e-08\n",
      "Epoch 93/100\n",
      "18/18 [==============================] - ETA: 0s - loss: 2.1062 - mae: 2.1062\n",
      "Epoch 93: val_loss did not improve from 4.16975\n",
      "18/18 [==============================] - 3s 161ms/step - loss: 2.1062 - mae: 2.1062 - val_loss: 4.1703 - val_mae: 4.1703 - lr: 1.0000e-08\n",
      "Epoch 94/100\n",
      "18/18 [==============================] - ETA: 0s - loss: 2.1036 - mae: 2.1036\n",
      "Epoch 94: val_loss improved from 4.16975 to 4.16868, saving model to model_checkpoints/cp.ckpt\n",
      "18/18 [==============================] - 3s 184ms/step - loss: 2.1036 - mae: 2.1036 - val_loss: 4.1687 - val_mae: 4.1687 - lr: 1.0000e-08\n",
      "Epoch 95/100\n",
      "18/18 [==============================] - ETA: 0s - loss: 2.1011 - mae: 2.1011\n",
      "Epoch 95: val_loss improved from 4.16868 to 4.16844, saving model to model_checkpoints/cp.ckpt\n",
      "18/18 [==============================] - 3s 176ms/step - loss: 2.1011 - mae: 2.1011 - val_loss: 4.1684 - val_mae: 4.1684 - lr: 1.0000e-08\n",
      "Epoch 96/100\n",
      "18/18 [==============================] - ETA: 0s - loss: 2.1022 - mae: 2.1022\n",
      "Epoch 96: val_loss improved from 4.16844 to 4.16838, saving model to model_checkpoints/cp.ckpt\n",
      "18/18 [==============================] - 3s 178ms/step - loss: 2.1022 - mae: 2.1022 - val_loss: 4.1684 - val_mae: 4.1684 - lr: 1.0000e-08\n",
      "Epoch 97/100\n",
      "18/18 [==============================] - ETA: 0s - loss: 2.1008 - mae: 2.1008\n",
      "Epoch 97: val_loss improved from 4.16838 to 4.16645, saving model to model_checkpoints/cp.ckpt\n",
      "18/18 [==============================] - 3s 179ms/step - loss: 2.1008 - mae: 2.1008 - val_loss: 4.1665 - val_mae: 4.1665 - lr: 1.0000e-08\n",
      "Epoch 98/100\n",
      "18/18 [==============================] - ETA: 0s - loss: 2.1053 - mae: 2.1053\n",
      "Epoch 98: val_loss did not improve from 4.16645\n",
      "18/18 [==============================] - 3s 162ms/step - loss: 2.1053 - mae: 2.1053 - val_loss: 4.1691 - val_mae: 4.1691 - lr: 1.0000e-08\n",
      "Epoch 99/100\n",
      "18/18 [==============================] - ETA: 0s - loss: 2.0960 - mae: 2.0960\n",
      "Epoch 99: val_loss did not improve from 4.16645\n",
      "18/18 [==============================] - 3s 163ms/step - loss: 2.0960 - mae: 2.0960 - val_loss: 4.1677 - val_mae: 4.1677 - lr: 1.0000e-08\n",
      "Epoch 100/100\n",
      "18/18 [==============================] - ETA: 0s - loss: 2.0929 - mae: 2.0929\n",
      "Epoch 100: val_loss did not improve from 4.16645\n",
      "18/18 [==============================] - 3s 169ms/step - loss: 2.0929 - mae: 2.0929 - val_loss: 4.1682 - val_mae: 4.1682 - lr: 1.0000e-08\n"
     ]
    }
   ],
   "source": [
    "input_layer = Input(shape=(SIZE, SIZE, 3))\n",
    "\n",
    "x = Conv2D(32, (3, 3), activation='relu')(input_layer)\n",
    "x = MaxPooling2D((2, 2))(x)\n",
    "x = Conv2D(64, (3, 3), activation='relu')(x)\n",
    "x = MaxPooling2D((2, 2))(x)\n",
    "\n",
    "x = Flatten()(x)\n",
    "\n",
    "x = Dense(64, activation='relu')(x)\n",
    "\n",
    "output_layer = Dense(1)(x)\n",
    "\n",
    "model2 = Model(inputs=input_layer, outputs=output_layer)\n",
    "\n",
    "\n",
    "early_stopping_callback = tf.keras.callbacks.EarlyStopping(\n",
    "    monitor='val_loss',\n",
    "    patience=5,\n",
    "    restore_best_weights=True\n",
    ")\n",
    "\n",
    "reduce_lr = tf.keras.callbacks.ReduceLROnPlateau(\n",
    "    monitor='val_loss',\n",
    "    factor=0.2,\n",
    "    patience=3,\n",
    "    min_lr=1e-8,\n",
    "    verbose=1\n",
    ")\n",
    "\n",
    "checkpoint_path = \"model_checkpoints/cp.ckpt\"\n",
    "model_checkpoint = tf.keras.callbacks.ModelCheckpoint(checkpoint_path,\n",
    "                                                    monitor=\"val_loss\",\n",
    "                                                    save_best_only=True,\n",
    "                                                    save_weights_only=True,\n",
    "                                                    verbose=1)\n",
    "\n",
    "model2.compile(optimizer=tf.keras.optimizers.legacy.Adam(learning_rate=0.00000055), loss='mean_absolute_error', metrics=['mae'])\n",
    "history2 = model2.fit(X_train, y_train, \n",
    "                    epochs=100, \n",
    "                    batch_size=BATCH,\n",
    "                    validation_data = (X_test, y_test), \n",
    "                    callbacks=[reduce_lr, early_stopping_callback, model_checkpoint])"
   ]
  },
  {
   "cell_type": "code",
   "execution_count": 62,
   "metadata": {},
   "outputs": [
    {
     "name": "stdout",
     "output_type": "stream",
     "text": [
      "4/4 [==============================] - 1s 108ms/step - loss: 4.1682 - mae: 4.1682\n"
     ]
    },
    {
     "data": {
      "text/plain": [
       "[4.168227672576904, 4.168227672576904]"
      ]
     },
     "execution_count": 62,
     "metadata": {},
     "output_type": "execute_result"
    }
   ],
   "source": [
    "model2.evaluate(X_test, y_test)"
   ]
  },
  {
   "cell_type": "code",
   "execution_count": 65,
   "metadata": {},
   "outputs": [
    {
     "data": {
      "image/png": "[encoded data removed]",
      "text/plain": [
       "<Figure size 640x480 with 1 Axes>"
      ]
     },
     "metadata": {},
     "output_type": "display_data"
    },
    {
     "data": {
      "image/png": "[encoded data removed]",
      "text/plain": [
       "<Figure size 640x480 with 1 Axes>"
      ]
     },
     "metadata": {},
     "output_type": "display_data"
    },
    {
     "data": {
      "text/plain": [
       "<Figure size 640x480 with 0 Axes>"
      ]
     },
     "metadata": {},
     "output_type": "display_data"
    }
   ],
   "source": [
    "history_plot(history2)"
   ]
  },
  {
   "cell_type": "markdown",
   "metadata": {},
   "source": [
    "### Також перевіримо чекпоінт що зберігся на 97 епосі"
   ]
  },
  {
   "cell_type": "code",
   "execution_count": 85,
   "metadata": {},
   "outputs": [],
   "source": [
    "cloned_model = tf.keras.models.clone_model(model2)\n",
    "cloned_model.load_weights(checkpoint_path)\n",
    "cloned_model.compile(optimizer=tf.keras.optimizers.legacy.Adam(learning_rate=0.00000055), loss='mean_absolute_error', metrics=['mae'])"
   ]
  },
  {
   "cell_type": "code",
   "execution_count": 86,
   "metadata": {},
   "outputs": [
    {
     "name": "stdout",
     "output_type": "stream",
     "text": [
      "4/4 [==============================] - 1s 138ms/step - loss: 4.1665 - mae: 4.1665\n"
     ]
    },
    {
     "data": {
      "text/plain": [
       "[4.166451930999756, 4.166451930999756]"
      ]
     },
     "execution_count": 86,
     "metadata": {},
     "output_type": "execute_result"
    }
   ],
   "source": [
    "cloned_model.evaluate(X_test, y_test)"
   ]
  },
  {
   "cell_type": "markdown",
   "metadata": {},
   "source": [
    "# Основна модель"
   ]
  },
  {
   "cell_type": "markdown",
   "metadata": {},
   "source": [
    "### Будуємо тюнер з використанням Баевського оптимізатора, який за допомогою Гаусівського розподілу та Теорії Ймовірності має знайти оптимальні параметри моделі"
   ]
  },
  {
   "cell_type": "markdown",
   "metadata": {},
   "source": [
    "### В якості регуляризації використовуємо EarlyStopping, що має зупинити навчання в разі виходу на плато за метрикою val_mae; шари Dropout що відключатимуть по 30 відсоткив нейронів в кожній епосі"
   ]
  },
  {
   "cell_type": "code",
   "execution_count": null,
   "metadata": {},
   "outputs": [
    {
     "name": "stdout",
     "output_type": "stream",
     "text": [
      "Trial 10 Complete [00h 01m 50s]\n",
      "val_mae: 11.553166389465332\n",
      "\n",
      "Best val_mae So Far: 6.04791259765625\n",
      "Total elapsed time: 00h 35m 25s\n",
      "INFO:tensorflow:Oracle triggered exit\n"
     ]
    },
    {
     "name": "stderr",
     "output_type": "stream",
     "text": [
      "INFO:tensorflow:Oracle triggered exit\n"
     ]
    }
   ],
   "source": [
    "def build_custom_model(liers1, liers2, units1, units2):\n",
    "\n",
    "    inputs = tf.keras.layers.Input(shape=(SIZE, SIZE, 3), name=\"input_layer\")\n",
    "    \n",
    "    x = tf.keras.layers.Conv2D(units1 / 2, (3, 3), activation='relu')(inputs)\n",
    "    x = tf.keras.layers.MaxPooling2D((2, 2))(x)\n",
    "\n",
    "    for i in range(1, liers1 + 1):\n",
    "        x = tf.keras.layers.Conv2D(int(units1 * i), (3, 3), activation='relu')(x)\n",
    "        x = tf.keras.layers.MaxPooling2D((2, 2))(x)\n",
    "\n",
    "    x = tf.keras.layers.Flatten()(x)\n",
    "\n",
    "    for j in range(liers2, 0, -1):\n",
    "        x = tf.keras.layers.Dense(int(units2 / j), activation='relu')(x)\n",
    "        x = tf.keras.layers.Dropout(rate=0.3)(x)\n",
    "    \n",
    "    outputs = tf.keras.layers.Dense(1)(x)\n",
    "    \n",
    "    model = tf.keras.Model(inputs=inputs, outputs=outputs)\n",
    "    model.compile(\n",
    "        loss='mean_absolute_error', \n",
    "        optimizer=tf.keras.optimizers.legacy.Adam(learning_rate=0.00000055), \n",
    "        metrics=['mae'])\n",
    "\n",
    "    return model\n",
    "\n",
    "\n",
    "def build_model(hp):\n",
    "    liers1 = hp.Choice(\"liers1\", [1, 2, 3])\n",
    "    liers2 = hp.Choice(\"liers2\", [1, 2, 3])\n",
    "    units1 = hp.Choice(\"units1\", [16, 32, 64, 128])\n",
    "    units2 = hp.Choice(\"units2\", [64, 128, 256, 512])\n",
    "    \n",
    "    model = build_custom_model(liers1 = liers1, liers2 = liers2, units1 = units1, units2 = units2)\n",
    "\n",
    "    return model\n",
    "\n",
    "\n",
    "early_stopping_callback = tf.keras.callbacks.EarlyStopping(\n",
    "    monitor='val_loss',\n",
    "    patience=5,\n",
    "    restore_best_weights=True\n",
    ")\n",
    "\n",
    "reduce_lr = tf.keras.callbacks.ReduceLROnPlateau(\n",
    "    monitor='val_loss',\n",
    "    factor=0.2,\n",
    "    patience=3,\n",
    "    min_lr=1e-8,\n",
    "    verbose=1\n",
    ")"
   ]
  },
  {
   "cell_type": "markdown",
   "metadata": {},
   "source": [
    "### Судячи з базової моделі 50 є достатнім значенням епох, але оскільки я ставлю будуватись модель на ніч, то залишу 100. Уникнути перенавченості мають попередні заходи регулярізації"
   ]
  },
  {
   "cell_type": "code",
   "execution_count": null,
   "metadata": {},
   "outputs": [],
   "source": [
    "tuner = BayesianOptimization(\n",
    "    build_model,\n",
    "    objective=\"val_mae\",\n",
    "    num_initial_points=5,\n",
    "    max_trials=10,\n",
    "    directory=\"Kytaiskyi\",\n",
    "    project_name=\"BayesianOptimization\"\n",
    ")\n",
    "\n",
    "history3 = tuner.search(\n",
    "    X_train, y_train,\n",
    "    epochs=100,\n",
    "    validation_data = (X_test, y_test), \n",
    "    callbacks=[early_stopping_callback, reduce_lr]\n",
    ")"
   ]
  },
  {
   "cell_type": "markdown",
   "metadata": {},
   "source": [
    "### Оскільки модель з тюнера не перевершила базову модель (4.1 проти 6.0) розширюємо діапазон пошуку та встановлюємо кількість епох на 1000 аби будування завершилось по колбеку"
   ]
  },
  {
   "cell_type": "code",
   "execution_count": 58,
   "metadata": {},
   "outputs": [
    {
     "name": "stdout",
     "output_type": "stream",
     "text": [
      "Trial 30 Complete [00h 09m 57s]\n",
      "val_mae: 3.5284438133239746\n",
      "\n",
      "Best val_mae So Far: 2.9861581325531006\n",
      "Total elapsed time: 02h 13m 06s\n",
      "INFO:tensorflow:Oracle triggered exit\n"
     ]
    },
    {
     "name": "stderr",
     "output_type": "stream",
     "text": [
      "INFO:tensorflow:Oracle triggered exit\n"
     ]
    }
   ],
   "source": [
    "tuner_model = BayesianOptimization(\n",
    "    build_model,\n",
    "    objective=\"val_mae\",\n",
    "    num_initial_points=5,\n",
    "    max_trials=30,\n",
    "    directory=\"Kytaiskyi\",\n",
    "    project_name=\"BayesianOptimization\"\n",
    ")\n",
    "\n",
    "history_tuner = tuner_model.search(\n",
    "    X_train, y_train,\n",
    "    epochs=1000,\n",
    "    validation_data = (X_test, y_test), \n",
    "    callbacks=[early_stopping_callback, reduce_lr]\n",
    ")"
   ]
  },
  {
   "cell_type": "code",
   "execution_count": 66,
   "metadata": {},
   "outputs": [],
   "source": [
    "final_model = tuner_model.get_best_models(num_models=1)[0]"
   ]
  },
  {
   "cell_type": "code",
   "execution_count": 80,
   "metadata": {},
   "outputs": [
    {
     "name": "stdout",
     "output_type": "stream",
     "text": [
      "4/4 [==============================] - 1s 183ms/step - loss: 2.9862 - mae: 2.9862\n"
     ]
    },
    {
     "data": {
      "text/plain": [
       "[2.9861581325531006, 2.9861581325531006]"
      ]
     },
     "execution_count": 80,
     "metadata": {},
     "output_type": "execute_result"
    }
   ],
   "source": [
    "final_model.evaluate(X_test, y_test)"
   ]
  },
  {
   "cell_type": "code",
   "execution_count": 87,
   "metadata": {},
   "outputs": [
    {
     "name": "stderr",
     "output_type": "stream",
     "text": [
      "/Users/aleksejkitajskij/miniconda3/envs/tensorflow/lib/python3.10/site-packages/keras/src/engine/training.py:3000: UserWarning: You are saving your model as an HDF5 file via `model.save()`. This file format is considered legacy. We recommend using instead the native Keras format, e.g. `model.save('my_model.keras')`.\n",
      "  saving_api.save_model(\n"
     ]
    }
   ],
   "source": [
    "final_model.save('model.h5')"
   ]
  },
  {
   "cell_type": "code",
   "execution_count": null,
   "metadata": {},
   "outputs": [],
   "source": []
  }
 ],
 "metadata": {
  "kernelspec": {
   "display_name": "Python 3.10 (tensorflow)",
   "language": "python",
   "name": "tensorflow"
  },
  "language_info": {
   "codemirror_mode": {
    "name": "ipython",
    "version": 3
   },
   "file_extension": ".py",
   "mimetype": "text/x-python",
   "name": "python",
   "nbconvert_exporter": "python",
   "pygments_lexer": "ipython3",
   "version": "3.10.10"
  },
  "orig_nbformat": 4
 },
 "nbformat": 4,
 "nbformat_minor": 2
}
